{
 "cells": [
  {
   "cell_type": "markdown",
   "metadata": {},
   "source": [
    "<img align=\"left\" src=\"https://lever-client-logos.s3.amazonaws.com/864372b1-534c-480e-acd5-9711f850815c-1524247202159.png\" width=200>\n",
    "<br></br>\n",
    "<br></br>\n",
    "\n",
    "## *Data Science Unit 4 Sprint 3 Assignment 2*\n",
    "# Convolutional Neural Networks (CNNs)"
   ]
  },
  {
   "cell_type": "markdown",
   "metadata": {
    "colab_type": "text",
    "id": "0lfZdD_cp1t5"
   },
   "source": [
    "# Assignment\n",
    "\n",
    "- <a href=\"#p1\">Part 1:</a> Pre-Trained Model\n",
    "- <a href=\"#p2\">Part 2:</a> Custom CNN Model\n",
    "- <a href=\"#p3\">Part 3:</a> CNN with Data Augmentation\n",
    "\n",
    "\n",
    "You will apply three different CNN models to a binary image classification model using Keras. Classify images of Mountains (`./data/mountain/*`) and images of forests (`./data/forest/*`). Treat mountains as the postive class (1) and the forest images as the negative (zero). \n",
    "\n",
    "|Mountain (+)|Forest (-)|\n",
    "|---|---|\n",
    "|![](./data/mountain/art1131.jpg)|![](./data/forest/cdmc317.jpg)|\n",
    "\n",
    "The problem is realively difficult given that the sample is tiny: there are about 350 observations per class. This sample size might be something that you can expect with prototyping an image classification problem/solution at work. Get accustomed to evaluating several differnet possible models."
   ]
  },
  {
   "cell_type": "markdown",
   "metadata": {
    "colab_type": "text",
    "id": "0lfZdD_cp1t5"
   },
   "source": [
    "# Pre - Trained Model\n",
    "<a id=\"p1\"></a>\n",
    "\n",
    "Load a pretrained network from Keras, [ResNet50](https://tfhub.dev/google/imagenet/resnet_v1_50/classification/1) - a 50 layer deep network trained to recognize [1000 objects](https://storage.googleapis.com/download.tensorflow.org/data/ImageNetLabels.txt). Starting usage:\n",
    "\n",
    "```python\n",
    "import numpy as np\n",
    "\n",
    "from tensorflow.keras.applications.resnet50 import ResNet50\n",
    "from tensorflow.keras.preprocessing import image\n",
    "from tensorflow.keras.applications.resnet50 import preprocess_input, decode_predictions\n",
    "\n",
    "from tensorflow.keras.layers import Dense, GlobalAveragePooling2D()\n",
    "from tensorflow.keras.models import Model # This is the functional API\n",
    "\n",
    "resnet = ResNet50(weights='imagenet', include_top=False)\n",
    "\n",
    "```\n",
    "\n",
    "The `include_top` parameter in `ResNet50` will remove the full connected layers from the ResNet model. The next step is to turn off the training of the ResNet layers. We want to use the learned parameters without updating them in future training passes. \n",
    "\n",
    "```python\n",
    "for layer in resnet.layers:\n",
    "    layer.trainable = False\n",
    "```\n",
    "\n",
    "Using the Keras functional API, we will need to additional additional full connected layers to our model. We we removed the top layers, we removed all preivous fully connected layers. In other words, we kept only the feature processing portions of our network. You can expert with additional layers beyond what's listed here. The `GlobalAveragePooling2D` layer functions as a really fancy flatten function by taking the average of each of the last convolutional layer outputs (which is two dimensional still). \n",
    "\n",
    "```python\n",
    "x = res.output\n",
    "x = GlobalAveragePooling2D()(x) # This layer is a really fancy flatten\n",
    "x = Dense(1024, activation='relu')(x)\n",
    "predictions = Dense(1, activation='sigmoid')(x)\n",
    "model = Model(res.input, predictions)\n",
    "```\n",
    "\n",
    "Your assignment is to apply the transfer learning above to classify images of Mountains (`./data/mountain/*`) and images of forests (`./data/forest/*`). Treat mountains as the postive class (1) and the forest images as the negative (zero). \n",
    "\n",
    "Steps to complete assignment: \n",
    "1. Load in Image Data into numpy arrays (`X`) \n",
    "2. Create a `y` for the labels\n",
    "3. Train your model with pretrained layers from resnet\n",
    "4. Report your model's accuracy"
   ]
  },
  {
   "cell_type": "markdown",
   "metadata": {},
   "source": [
    "## Load in Data\n",
    "\n",
    "![skimage-logo](https://scikit-image.org/_static/img/logo.png)\n",
    "\n",
    "Check out out [`skimage`](https://scikit-image.org/) for useful functions related to processing the images. In particular checkout the documentation for `skimage.io.imread_collection` and `skimage.transform.resize`."
   ]
  },
  {
   "cell_type": "code",
   "execution_count": 4,
   "metadata": {},
   "outputs": [],
   "source": [
    "import numpy as np\n",
    "from numpy import asarray\n",
    "from sklearn.model_selection import train_test_split\n",
    "\n",
    "from tensorflow.keras.applications.resnet50 import ResNet50\n",
    "from tensorflow.keras.preprocessing import image\n",
    "from tensorflow.keras.applications.resnet50 import preprocess_input, decode_predictions\n",
    "\n",
    "from tensorflow.keras.layers import Dense, GlobalAveragePooling2D\n",
    "from tensorflow.keras.models import Model # This is the functional API\n",
    "\n",
    "from skimage.transform import resize\n",
    "from skimage import color, io\n",
    "from skimage.exposure import rescale_intensity"
   ]
  },
  {
   "cell_type": "code",
   "execution_count": 5,
   "metadata": {},
   "outputs": [],
   "source": [
    "col_mtn = io.ImageCollection('./data/mountain/*')\n",
    "col_fst = io.ImageCollection('./data/forest/*')"
   ]
  },
  {
   "cell_type": "code",
   "execution_count": 6,
   "metadata": {},
   "outputs": [
    {
     "data": {
      "text/plain": [
       "(256, 256, 3)"
      ]
     },
     "execution_count": 6,
     "metadata": {},
     "output_type": "execute_result"
    }
   ],
   "source": [
    "col_mtn[0].shape"
   ]
  },
  {
   "cell_type": "code",
   "execution_count": 7,
   "metadata": {},
   "outputs": [
    {
     "data": {
      "text/plain": [
       "374"
      ]
     },
     "execution_count": 7,
     "metadata": {},
     "output_type": "execute_result"
    }
   ],
   "source": [
    "len(col_mtn)"
   ]
  },
  {
   "cell_type": "code",
   "execution_count": 8,
   "metadata": {},
   "outputs": [
    {
     "name": "stdout",
     "output_type": "stream",
     "text": [
      "(702, 256, 256, 3)\n",
      "(702, 196608)\n",
      "(702,)\n"
     ]
    }
   ],
   "source": [
    "def image_process(coll1, coll2):\n",
    "    i_list = []\n",
    "    d_list = []\n",
    "    l_list = []\n",
    "    \n",
    "    for i in range(0, len(coll1)):\n",
    "                \n",
    "        image = coll1[i]\n",
    "        data = asarray(image)\n",
    "                \n",
    "        # load images into image_list\n",
    "        i_list.append(data)\n",
    "  \n",
    "        # load images as ravelled array into data_list\n",
    "        rav_array = np.ravel(data)\n",
    "        d_list.append(rav_array)\n",
    "\n",
    "        l_list.append(1)\n",
    "        \n",
    "    for i in range(0, len(coll2)):\n",
    "                \n",
    "        image = coll2[i]\n",
    "        data = asarray(image)\n",
    "                \n",
    "        # load images into image_list\n",
    "        i_list.append(data)\n",
    "  \n",
    "        # load images as ravelled array into data_list\n",
    "        rav_array = np.ravel(data)\n",
    "        d_list.append(rav_array)\n",
    "\n",
    "        l_list.append(0)\n",
    "                \n",
    "    # convert image_list to numpy array\n",
    "    i_list = np.array(i_list)\n",
    "\n",
    "    # convert data_list to numpy array\n",
    "    d_list = np.array(d_list)\n",
    "\n",
    "    # convert label_list to numpy array\n",
    "    l_list = np.array(l_list)\n",
    "        \n",
    "    return i_list, d_list, l_list\n",
    "\n",
    "image_list, data_list, label_list = image_process(col_mtn, col_fst)\n",
    "\n",
    "print(image_list.shape)\n",
    "print(data_list.shape)\n",
    "print(label_list.shape)"
   ]
  },
  {
   "cell_type": "code",
   "execution_count": 9,
   "metadata": {},
   "outputs": [],
   "source": [
    "X = image_list\n",
    "y = label_list\n",
    "\n",
    "# split into a training and testing set\n",
    "X_train, X_test, y_train, y_test = train_test_split(X, y, test_size=0.25, random_state=42)"
   ]
  },
  {
   "cell_type": "markdown",
   "metadata": {},
   "source": [
    "## Instatiate Model"
   ]
  },
  {
   "cell_type": "code",
   "execution_count": 10,
   "metadata": {},
   "outputs": [
    {
     "name": "stdout",
     "output_type": "stream",
     "text": [
      "WARNING:tensorflow:From /Users/JKMacBook/opt/anaconda3/envs/CNN/lib/python3.7/site-packages/tensorflow/python/ops/resource_variable_ops.py:435: colocate_with (from tensorflow.python.framework.ops) is deprecated and will be removed in a future version.\n",
      "Instructions for updating:\n",
      "Colocations handled automatically by placer.\n"
     ]
    },
    {
     "name": "stderr",
     "output_type": "stream",
     "text": [
      "/Users/JKMacBook/opt/anaconda3/envs/CNN/lib/python3.7/site-packages/keras_applications/resnet50.py:265: UserWarning: The output shape of `ResNet50(include_top=False)` has been changed since Keras 2.2.0.\n",
      "  warnings.warn('The output shape of `ResNet50(include_top=False)` '\n"
     ]
    }
   ],
   "source": [
    "resnet = ResNet50(weights='imagenet', include_top=False)\n",
    "for layer in resnet.layers:\n",
    "    layer.trainable = False"
   ]
  },
  {
   "cell_type": "markdown",
   "metadata": {},
   "source": [
    "## Fit Model"
   ]
  },
  {
   "cell_type": "code",
   "execution_count": 11,
   "metadata": {},
   "outputs": [
    {
     "name": "stdout",
     "output_type": "stream",
     "text": [
      "WARNING:tensorflow:From /Users/JKMacBook/opt/anaconda3/envs/CNN/lib/python3.7/site-packages/tensorflow/python/keras/utils/losses_utils.py:170: to_float (from tensorflow.python.ops.math_ops) is deprecated and will be removed in a future version.\n",
      "Instructions for updating:\n",
      "Use tf.cast instead.\n",
      "Train on 526 samples, validate on 176 samples\n",
      "WARNING:tensorflow:From /Users/JKMacBook/opt/anaconda3/envs/CNN/lib/python3.7/site-packages/tensorflow/python/ops/math_ops.py:3066: to_int32 (from tensorflow.python.ops.math_ops) is deprecated and will be removed in a future version.\n",
      "Instructions for updating:\n",
      "Use tf.cast instead.\n",
      "Epoch 1/10\n",
      "526/526 [==============================] - 263s 500ms/sample - loss: 0.4715 - acc: 0.5171 - val_loss: 0.2937 - val_acc: 0.6818\n",
      "Epoch 2/10\n",
      "526/526 [==============================] - 223s 424ms/sample - loss: 0.3322 - acc: 0.6635 - val_loss: 0.3297 - val_acc: 0.6420\n",
      "Epoch 3/10\n",
      "526/526 [==============================] - 221s 420ms/sample - loss: 0.0511 - acc: 0.9430 - val_loss: 0.1695 - val_acc: 0.8182\n",
      "Epoch 4/10\n",
      "526/526 [==============================] - 241s 458ms/sample - loss: 0.0366 - acc: 0.9601 - val_loss: 0.0356 - val_acc: 0.9602\n",
      "Epoch 5/10\n",
      "526/526 [==============================] - 224s 426ms/sample - loss: 0.0446 - acc: 0.9506 - val_loss: 0.0122 - val_acc: 0.9773\n",
      "Epoch 6/10\n",
      "526/526 [==============================] - 223s 423ms/sample - loss: 0.0319 - acc: 0.9658 - val_loss: 0.0930 - val_acc: 0.8920\n",
      "Epoch 7/10\n",
      "526/526 [==============================] - 226s 429ms/sample - loss: 0.0358 - acc: 0.9620 - val_loss: 0.0643 - val_acc: 0.9261\n",
      "Epoch 8/10\n",
      "526/526 [==============================] - 235s 446ms/sample - loss: 0.0266 - acc: 0.9696 - val_loss: 0.0171 - val_acc: 0.9830\n",
      "Epoch 9/10\n",
      "526/526 [==============================] - 231s 439ms/sample - loss: 0.0348 - acc: 0.9582 - val_loss: 0.0208 - val_acc: 0.9773\n",
      "Epoch 10/10\n",
      "526/526 [==============================] - 222s 422ms/sample - loss: 0.0483 - acc: 0.9506 - val_loss: 0.0174 - val_acc: 0.9830\n"
     ]
    },
    {
     "data": {
      "text/plain": [
       "<tensorflow.python.keras.callbacks.History at 0x1310d1e80>"
      ]
     },
     "execution_count": 11,
     "metadata": {},
     "output_type": "execute_result"
    }
   ],
   "source": [
    "x = resnet.output\n",
    "x = GlobalAveragePooling2D()(x) # This layer is a really fancy flatten\n",
    "x = Dense(1024, activation='relu')(x)\n",
    "predictions = Dense(1, activation='sigmoid')(x)\n",
    "model = Model(resnet.input, predictions)\n",
    "\n",
    "model.compile(optimizer='adam',\n",
    "              loss='mean_squared_error',\n",
    "              metrics=['accuracy'])\n",
    "\n",
    "model.fit(X_train, y_train, epochs=10, validation_data=(X_test, y_test))"
   ]
  },
  {
   "cell_type": "markdown",
   "metadata": {},
   "source": [
    "# Custom CNN Model\n",
    "\n",
    "In this step, write and train your own convolutional neural network using Keras. You can use any architecture that suits you as long as it has at least one convolutional and one pooling layer at the beginning of the network - you can add more if you want. "
   ]
  },
  {
   "cell_type": "code",
   "execution_count": 1,
   "metadata": {},
   "outputs": [],
   "source": [
    "from tensorflow.keras.models import Sequential, Model # <- May Use\n",
    "from tensorflow.keras.layers import Dense, Conv2D, MaxPooling2D, Flatten"
   ]
  },
  {
   "cell_type": "code",
   "execution_count": 14,
   "metadata": {},
   "outputs": [
    {
     "name": "stdout",
     "output_type": "stream",
     "text": [
      "(702, 32, 32, 3)\n",
      "(702, 3072)\n",
      "(702,)\n"
     ]
    }
   ],
   "source": [
    "def image_process(coll1, coll2):\n",
    "    i_list = []\n",
    "    d_list = []\n",
    "    l_list = []\n",
    "    \n",
    "    for i in range(0, len(coll1)):\n",
    "                \n",
    "        image = resize(coll1[i], (coll1[i].shape[0] // 8, coll1[i].shape[1] // 8),\n",
    "                       anti_aliasing=True)\n",
    "        data = asarray(image)\n",
    "                \n",
    "        # load images into image_list\n",
    "        i_list.append(data)\n",
    "  \n",
    "        # load images as ravelled array into data_list\n",
    "        rav_array = np.ravel(data)\n",
    "        d_list.append(rav_array)\n",
    "\n",
    "        l_list.append(1)\n",
    "        \n",
    "    for i in range(0, len(coll2)):\n",
    "                \n",
    "        image = image = resize(coll2[i], (coll2[i].shape[0] // 8, coll2[i].shape[1] // 8),\n",
    "                       anti_aliasing=True)\n",
    "        data = asarray(image)\n",
    "                \n",
    "        # load images into image_list\n",
    "        i_list.append(data)\n",
    "  \n",
    "        # load images as ravelled array into data_list\n",
    "        rav_array = np.ravel(data)\n",
    "        d_list.append(rav_array)\n",
    "\n",
    "        l_list.append(0)\n",
    "                \n",
    "    # convert image_list to numpy array\n",
    "    i_list = np.array(i_list)\n",
    "\n",
    "    # convert data_list to numpy array\n",
    "    d_list = np.array(d_list)\n",
    "\n",
    "    # convert label_list to numpy array\n",
    "    l_list = np.array(l_list)\n",
    "        \n",
    "    return i_list, d_list, l_list\n",
    "\n",
    "image_list, data_list, label_list = image_process(col_mtn, col_fst)\n",
    "\n",
    "print(image_list.shape)\n",
    "print(data_list.shape)\n",
    "print(label_list.shape)"
   ]
  },
  {
   "cell_type": "code",
   "execution_count": 15,
   "metadata": {},
   "outputs": [],
   "source": [
    "X = image_list\n",
    "y = label_list\n",
    "\n",
    "# split into a training and testing set\n",
    "X_train, X_test, y_train, y_test = train_test_split(X, y, test_size=0.25, random_state=42)"
   ]
  },
  {
   "cell_type": "code",
   "execution_count": 17,
   "metadata": {},
   "outputs": [
    {
     "name": "stdout",
     "output_type": "stream",
     "text": [
      "_________________________________________________________________\n",
      "Layer (type)                 Output Shape              Param #   \n",
      "=================================================================\n",
      "conv2d_2 (Conv2D)            (None, 30, 30, 32)        896       \n",
      "_________________________________________________________________\n",
      "max_pooling2d_2 (MaxPooling2 (None, 15, 15, 32)        0         \n",
      "_________________________________________________________________\n",
      "conv2d_3 (Conv2D)            (None, 13, 13, 64)        18496     \n",
      "_________________________________________________________________\n",
      "max_pooling2d_3 (MaxPooling2 (None, 6, 6, 64)          0         \n",
      "_________________________________________________________________\n",
      "conv2d_4 (Conv2D)            (None, 4, 4, 64)          36928     \n",
      "_________________________________________________________________\n",
      "flatten_2 (Flatten)          (None, 1024)              0         \n",
      "_________________________________________________________________\n",
      "dense_4 (Dense)              (None, 64)                65600     \n",
      "_________________________________________________________________\n",
      "dense_5 (Dense)              (None, 10)                650       \n",
      "=================================================================\n",
      "Total params: 122,570\n",
      "Trainable params: 122,570\n",
      "Non-trainable params: 0\n",
      "_________________________________________________________________\n"
     ]
    }
   ],
   "source": [
    "model = Sequential()\n",
    "model.add(Conv2D(32, (3,3), activation='relu', input_shape=(32,32,3)))\n",
    "model.add(MaxPooling2D((2,2)))\n",
    "model.add(Conv2D(64, (3,3), activation='relu'))\n",
    "model.add(MaxPooling2D((2,2)))\n",
    "model.add(Conv2D(64, (3,3), activation='relu'))\n",
    "model.add(Flatten())\n",
    "model.add(Dense(64, activation='relu'))\n",
    "model.add(Dense(10, activation='softmax'))\n",
    "\n",
    "model.summary()"
   ]
  },
  {
   "cell_type": "code",
   "execution_count": 18,
   "metadata": {},
   "outputs": [],
   "source": [
    "# Compile Model\n",
    "model.compile(optimizer='adam',\n",
    "              loss='sparse_categorical_crossentropy',\n",
    "              metrics=['accuracy'])"
   ]
  },
  {
   "cell_type": "code",
   "execution_count": 19,
   "metadata": {},
   "outputs": [
    {
     "name": "stdout",
     "output_type": "stream",
     "text": [
      "Train on 526 samples, validate on 176 samples\n",
      "Epoch 1/10\n",
      "526/526 [==============================] - 1s 3ms/sample - loss: 1.1338 - acc: 0.4658 - val_loss: 0.7723 - val_acc: 0.4489\n",
      "Epoch 2/10\n",
      "526/526 [==============================] - 1s 2ms/sample - loss: 0.5188 - acc: 0.7548 - val_loss: 0.4858 - val_acc: 0.7841\n",
      "Epoch 3/10\n",
      "526/526 [==============================] - 1s 2ms/sample - loss: 0.4204 - acc: 0.8232 - val_loss: 0.3580 - val_acc: 0.8580\n",
      "Epoch 4/10\n",
      "526/526 [==============================] - 1s 2ms/sample - loss: 0.3605 - acc: 0.8536 - val_loss: 0.3322 - val_acc: 0.8807\n",
      "Epoch 5/10\n",
      "526/526 [==============================] - 1s 2ms/sample - loss: 0.3338 - acc: 0.8669 - val_loss: 0.3146 - val_acc: 0.8750\n",
      "Epoch 6/10\n",
      "526/526 [==============================] - 1s 2ms/sample - loss: 0.3548 - acc: 0.8574 - val_loss: 0.3036 - val_acc: 0.8977\n",
      "Epoch 7/10\n",
      "526/526 [==============================] - 1s 2ms/sample - loss: 0.3303 - acc: 0.8593 - val_loss: 0.3028 - val_acc: 0.8750\n",
      "Epoch 8/10\n",
      "526/526 [==============================] - 1s 2ms/sample - loss: 0.2634 - acc: 0.9030 - val_loss: 0.2770 - val_acc: 0.8977\n",
      "Epoch 9/10\n",
      "526/526 [==============================] - 1s 2ms/sample - loss: 0.2271 - acc: 0.9125 - val_loss: 0.2649 - val_acc: 0.9148\n",
      "Epoch 10/10\n",
      "526/526 [==============================] - 1s 2ms/sample - loss: 0.2225 - acc: 0.9144 - val_loss: 0.2867 - val_acc: 0.8920\n"
     ]
    },
    {
     "data": {
      "text/plain": [
       "<tensorflow.python.keras.callbacks.History at 0x135370ba8>"
      ]
     },
     "execution_count": 19,
     "metadata": {},
     "output_type": "execute_result"
    }
   ],
   "source": [
    "# Fit Model\n",
    "model.fit(X_train, y_train, epochs=10, validation_data=(X_test, y_test))"
   ]
  },
  {
   "cell_type": "markdown",
   "metadata": {},
   "source": [
    "# Custom CNN Model with Image Manipulations\n",
    "## *This a stretch goal, and it's relatively difficult*\n",
    "\n",
    "To simulate an increase in a sample of image, you can apply image manipulation techniques: cropping, rotation, stretching, etc. Luckily Keras has some handy functions for us to apply these techniques to our mountain and forest example. Check out these resources to help you get started: \n",
    "\n",
    "1. [Keras `ImageGenerator` Class](https://keras.io/preprocessing/image/#imagedatagenerator-class)\n",
    "2. [Building a powerful image classifier with very little data](https://blog.keras.io/building-powerful-image-classification-models-using-very-little-data.html)\n",
    " "
   ]
  },
  {
   "cell_type": "code",
   "execution_count": null,
   "metadata": {},
   "outputs": [],
   "source": [
    "# State Code for Image Manipulation Here"
   ]
  },
  {
   "cell_type": "markdown",
   "metadata": {
    "colab_type": "text",
    "id": "uT3UV3gap9H6"
   },
   "source": [
    "# Resources and Stretch Goals\n",
    "\n",
    "Stretch goals\n",
    "- Enhance your code to use classes/functions and accept terms to search and classes to look for in recognizing the downloaded images (e.g. download images of parties, recognize all that contain balloons)\n",
    "- Check out [other available pretrained networks](https://tfhub.dev), try some and compare\n",
    "- Image recognition/classification is somewhat solved, but *relationships* between entities and describing an image is not - check out some of the extended resources (e.g. [Visual Genome](https://visualgenome.org/)) on the topic\n",
    "- Transfer learning - using images you source yourself, [retrain a classifier](https://www.tensorflow.org/hub/tutorials/image_retraining) with a new category\n",
    "- (Not CNN related) Use [piexif](https://pypi.org/project/piexif/) to check out the metadata of images passed in to your system - see if they're from a national park! (Note - many images lack GPS metadata, so this won't work in most cases, but still cool)\n",
    "\n",
    "Resources\n",
    "- [Deep Residual Learning for Image Recognition](https://arxiv.org/abs/1512.03385) - influential paper (introduced ResNet)\n",
    "- [YOLO: Real-Time Object Detection](https://pjreddie.com/darknet/yolo/) - an influential convolution based object detection system, focused on inference speed (for applications to e.g. self driving vehicles)\n",
    "- [R-CNN, Fast R-CNN, Faster R-CNN, YOLO](https://towardsdatascience.com/r-cnn-fast-r-cnn-faster-r-cnn-yolo-object-detection-algorithms-36d53571365e) - comparison of object detection systems\n",
    "- [Common Objects in Context](http://cocodataset.org/) - a large-scale object detection, segmentation, and captioning dataset\n",
    "- [Visual Genome](https://visualgenome.org/) - a dataset, a knowledge base, an ongoing effort to connect structured image concepts to language"
   ]
  }
 ],
 "metadata": {
  "kernelspec": {
   "display_name": "CNN",
   "language": "python",
   "name": "cnn"
  },
  "language_info": {
   "codemirror_mode": {
    "name": "ipython",
    "version": 3
   },
   "file_extension": ".py",
   "mimetype": "text/x-python",
   "name": "python",
   "nbconvert_exporter": "python",
   "pygments_lexer": "ipython3",
   "version": "3.7.0"
  }
 },
 "nbformat": 4,
 "nbformat_minor": 4
}
